{
 "cells": [
  {
   "cell_type": "code",
   "execution_count": 2,
   "metadata": {},
   "outputs": [
    {
     "name": "stderr",
     "output_type": "stream",
     "text": [
      " * Running on http://172.30.1.30:5000/ (Press CTRL+C to quit)\n"
     ]
    },
    {
     "name": "stdout",
     "output_type": "stream",
     "text": [
      "POST\n"
     ]
    },
    {
     "name": "stderr",
     "output_type": "stream",
     "text": [
      "Downloading: \"https://github.com/ultralytics/yolov5/archive/master.zip\" to C:\\Users\\smhrd/.cache\\torch\\hub\\master.zip\n",
      "YOLOv5  2022-6-23 Python-3.7.13 torch-1.11.0 CUDA:0 (NVIDIA GeForce RTX 2070, 8192MiB)\n",
      "\n",
      "Fusing layers... \n",
      "YOLOv5s summary: 213 layers, 7042489 parameters, 0 gradients, 15.9 GFLOPs\n",
      "Adding AutoShape... \n"
     ]
    },
    {
     "name": "stdout",
     "output_type": "stream",
     "text": [
      "58.174\n",
      "('정상', 'apple_1', 'null', 58.174, '2022-06-23')\n"
     ]
    },
    {
     "name": "stderr",
     "output_type": "stream",
     "text": [
      "172.30.1.30 - - [23/Jun/2022 11:22:55] \"POST /sendFrame HTTP/1.1\" 200 -\n",
      "172.30.1.30 - - [23/Jun/2022 11:22:55] \"POST /sendFrame HTTP/1.1\" 200 -\n",
      "Downloading: \"https://github.com/ultralytics/yolov5/archive/master.zip\" to C:\\Users\\smhrd/.cache\\torch\\hub\\master.zip\n"
     ]
    },
    {
     "name": "stdout",
     "output_type": "stream",
     "text": [
      "POST\n"
     ]
    },
    {
     "name": "stderr",
     "output_type": "stream",
     "text": [
      "YOLOv5  2022-6-23 Python-3.7.13 torch-1.11.0 CUDA:0 (NVIDIA GeForce RTX 2070, 8192MiB)\n",
      "\n",
      "Fusing layers... \n",
      "YOLOv5s summary: 213 layers, 7042489 parameters, 0 gradients, 15.9 GFLOPs\n",
      "Adding AutoShape... \n"
     ]
    },
    {
     "name": "stdout",
     "output_type": "stream",
     "text": [
      "58.174\n",
      "('정상', 'apple_1', 'null', 58.174, '2022-06-23')\n"
     ]
    },
    {
     "name": "stderr",
     "output_type": "stream",
     "text": [
      "172.30.1.30 - - [23/Jun/2022 11:22:56] \"POST /sendFrame HTTP/1.1\" 200 -\n",
      "172.30.1.30 - - [23/Jun/2022 11:22:56] \"POST /sendFrame HTTP/1.1\" 200 -\n"
     ]
    },
    {
     "name": "stdout",
     "output_type": "stream",
     "text": [
      "POST\n"
     ]
    },
    {
     "name": "stderr",
     "output_type": "stream",
     "text": [
      "Downloading: \"https://github.com/ultralytics/yolov5/archive/master.zip\" to C:\\Users\\smhrd/.cache\\torch\\hub\\master.zip\n",
      "YOLOv5  2022-6-23 Python-3.7.13 torch-1.11.0 CUDA:0 (NVIDIA GeForce RTX 2070, 8192MiB)\n",
      "\n",
      "Fusing layers... \n",
      "YOLOv5s summary: 213 layers, 7042489 parameters, 0 gradients, 15.9 GFLOPs\n",
      "Adding AutoShape... \n"
     ]
    },
    {
     "name": "stdout",
     "output_type": "stream",
     "text": [
      "74.157\n",
      "('탄저병', 'apple_1', 'null', 74.157, '2022-06-23')\n"
     ]
    },
    {
     "name": "stderr",
     "output_type": "stream",
     "text": [
      "172.30.1.30 - - [23/Jun/2022 11:23:10] \"POST /sendFrame HTTP/1.1\" 200 -\n",
      "172.30.1.30 - - [23/Jun/2022 11:23:10] \"POST /sendFrame HTTP/1.1\" 200 -\n"
     ]
    }
   ],
   "source": [
    "from flask import Flask, redirect, jsonify, url_for, request\n",
    "import base64\n",
    "import io\n",
    "from PIL import Image\n",
    "from flask_cors import CORS\n",
    "from werkzeug.serving import run_simple\n",
    "import torch, time\n",
    "import pymysql\n",
    "\n",
    "app = Flask(__name__)\n",
    "\n",
    "\n",
    "CORS(app)\n",
    "\n",
    "@app.route(\"/sendFrame\", methods=['POST']) \n",
    "def re():\n",
    "    print(request.method)\n",
    "    if request.method == 'POST':\n",
    "        \n",
    "        #안드로이드에서 'image'변수에 base64로 변환된 bitmap이미지\n",
    "        one_data = request.form['image']\n",
    "        \n",
    "        #base64로 인코딩된 이미지 데이터를 디코딩하여 byte형태로 변환\n",
    "        imgdata = base64.b64decode(one_data)\n",
    "        \n",
    "        #byte형태의 이미지 데이터를 이미지로 변환\n",
    "        image = Image.open(io.BytesIO(imgdata))\n",
    "        \n",
    "        #이미지 사이즈 조정\n",
    "        #img_resize = image.resize((int(image.width / 2), int(image.height / 2)))\n",
    "        \n",
    "        #display(img_resize)\n",
    "        \n",
    "        model = torch.hub.load('ultralytics/yolov5', 'custom', path='./best.pt', force_reload=True)\n",
    "        #anthImg = \n",
    "        #이미지 사이즈 변환 필요\n",
    "        image.thumbnail((416,416))\n",
    "\n",
    "        result = model(image)\n",
    "        resultpd = result.pandas().xyxy[0]\n",
    "        cls = f'{resultpd.iloc[0,5]}'\n",
    "        conf = round(resultpd.iloc[0,4]*100,3)\n",
    "        date = time.strftime('%Y-%m-%d')\n",
    "        \n",
    "        # conf = int(conf)\n",
    "        # conf_r = round(conf, 3)  \n",
    "        # print(conf_r)  \n",
    "        print(conf)\n",
    "              \n",
    "        \n",
    "        # 질병명\n",
    "        disNm = ''\n",
    "        if cls in ['0', '1', '2', '3']:\n",
    "            disNm = '정상'\n",
    "        elif cls == '4':\n",
    "            disNm = '탄저병'\n",
    "        elif cls == '5':\n",
    "            disNm = '갈색무늬병'\n",
    "        elif cls == '6':\n",
    "            disNm = '과수화상병'\n",
    "        elif cls == '9':\n",
    "            disNm = '점무늬낙엽병'\n",
    "        elif cls == '10':\n",
    "            disNm = '부란병'\n",
    "        \n",
    "    \n",
    "        # print(request.form['id'])\n",
    "        # print(disNm)\n",
    "        # print(conf)\n",
    "        # jsonify({\"result : {cls},{conf}\"}.__format__) \n",
    "        \n",
    "        result_return = (disNm, request.form['id'],'null',conf,date)\n",
    "        print(result_return)\n",
    "        \n",
    "        selfdb = pymysql.connect(host='project-db-stu.ddns.net',\n",
    "                                  user='applecareplus',\n",
    "                                  password='1234',\n",
    "                                  db = \"applecareplus\",\n",
    "                                  port = 3307,\n",
    "                                  charset='utf8')\n",
    "        selfdb.cursor = selfdb.cursor(pymysql.cursors.DictCursor)\n",
    "        selfdb.cursor.execute(\"insert into ins_result(dis_name, user_id, ins_poto, ins_percent, ins_time) values (%s,%s,%s,%s,%s)\", result_return)\n",
    "        selfdb.commit()\n",
    "        \n",
    "        \n",
    "    #결과값 리턴    \n",
    "    return str('true')\n",
    "    \n",
    "if __name__ == \"__main__\":\n",
    "    run_simple('172.30.1.30', 5000, app)"
   ]
  },
  {
   "cell_type": "code",
   "execution_count": null,
   "metadata": {},
   "outputs": [],
   "source": []
  },
  {
   "cell_type": "code",
   "execution_count": null,
   "metadata": {},
   "outputs": [],
   "source": []
  },
  {
   "cell_type": "code",
   "execution_count": null,
   "metadata": {},
   "outputs": [],
   "source": []
  },
  {
   "cell_type": "code",
   "execution_count": 13,
   "metadata": {},
   "outputs": [
    {
     "name": "stderr",
     "output_type": "stream",
     "text": [
      " * Running on http://172.30.1.30:5000/ (Press CTRL+C to quit)\n",
      " * Running on http://172.30.1.30:5000/ (Press CTRL+C to quit)\n"
     ]
    },
    {
     "name": "stdout",
     "output_type": "stream",
     "text": [
      "POST\n",
      "^C\n",
      "6\n",
      "54.0%\n"
     ]
    },
    {
     "name": "stderr",
     "output_type": "stream",
     "text": [
      "\u001b[34m\u001b[1mdetect: \u001b[0mweights=['./models/best.pt'], source=../images/image.jpg, data=data\\coco128.yaml, imgsz=[416, 416], conf_thres=0.5, iou_thres=0.45, max_det=1000, device=, view_img=False, save_txt=True, save_conf=True, save_crop=False, nosave=False, classes=None, agnostic_nms=False, augment=False, visualize=False, update=False, project=runs\\detect, name=exp, exist_ok=False, line_thickness=3, hide_labels=False, hide_conf=False, half=False, dnn=False\n",
      "YOLOv5  v6.1-243-g7cef03d Python-3.7.13 torch-1.11.0 CUDA:0 (NVIDIA GeForce RTX 2070, 8192MiB)\n",
      "\n",
      "Fusing layers... \n",
      "YOLOv5s summary: 213 layers, 7042489 parameters, 0 gradients, 15.9 GFLOPs\n",
      "image 1/1 C:\\Users\\smhrd\\Desktop\\model_test2\\images\\image.jpg: 256x416 1 9, Done. (0.020s)\n",
      "Speed: 2.0ms pre-process, 19.7ms inference, 44.0ms NMS per image at shape (1, 3, 416, 416)\n",
      "Results saved to \u001b[1mruns\\detect\\exp\u001b[0m\n",
      "0 labels saved to runs\\detect\\exp\\labels\n"
     ]
    },
    {
     "name": "stdout",
     "output_type": "stream",
     "text": [
      "asdfsdf\n",
      "9 0.9027354121208191\n"
     ]
    },
    {
     "name": "stderr",
     "output_type": "stream",
     "text": [
      "172.30.1.30 - - [21/Jun/2022 15:00:55] \"POST /sendFrame HTTP/1.1\" 200 -\n",
      "172.30.1.30 - - [21/Jun/2022 15:00:55] \"POST /sendFrame HTTP/1.1\" 200 -\n"
     ]
    },
    {
     "name": "stdout",
     "output_type": "stream",
     "text": [
      "POST\n",
      "asdfsdf\n",
      "9 0.9027354121208191\n",
      "6\n",
      "54.0%\n"
     ]
    },
    {
     "name": "stderr",
     "output_type": "stream",
     "text": [
      "\u001b[34m\u001b[1mdetect: \u001b[0mweights=['./models/best.pt'], source=../images/image.jpg, data=data\\coco128.yaml, imgsz=[416, 416], conf_thres=0.5, iou_thres=0.45, max_det=1000, device=, view_img=False, save_txt=True, save_conf=True, save_crop=False, nosave=False, classes=None, agnostic_nms=False, augment=False, visualize=False, update=False, project=runs\\detect, name=exp, exist_ok=False, line_thickness=3, hide_labels=False, hide_conf=False, half=False, dnn=False\n",
      "YOLOv5  v6.1-243-g7cef03d Python-3.7.13 torch-1.11.0 CUDA:0 (NVIDIA GeForce RTX 2070, 8192MiB)\n",
      "\n",
      "Fusing layers... \n",
      "YOLOv5s summary: 213 layers, 7042489 parameters, 0 gradients, 15.9 GFLOPs\n",
      "image 1/1 C:\\Users\\smhrd\\Desktop\\model_test2\\images\\image.jpg: 256x416 1 9, Done. (0.015s)\n",
      "Speed: 0.0ms pre-process, 15.0ms inference, 5.0ms NMS per image at shape (1, 3, 416, 416)\n",
      "Results saved to \u001b[1mruns\\detect\\exp\u001b[0m\n",
      "0 labels saved to runs\\detect\\exp\\labels\n",
      "172.30.1.30 - - [21/Jun/2022 15:01:04] \"POST /sendFrame HTTP/1.1\" 200 -\n",
      "172.30.1.30 - - [21/Jun/2022 15:01:04] \"POST /sendFrame HTTP/1.1\" 200 -\n"
     ]
    },
    {
     "name": "stdout",
     "output_type": "stream",
     "text": [
      "POST\n"
     ]
    }
   ],
   "source": [
    "from flask import Flask, redirect, request, Response\n",
    "import base64\n",
    "import io\n",
    "from PIL import Image\n",
    "from flask_cors import CORS\n",
    "from werkzeug.serving import run_simple\n",
    "import time\n",
    "import os\n",
    "from pathlib import Path\n",
    "from glob import glob\n",
    "from werkzeug.utils import secure_filename\n",
    "\n",
    "app = Flask(__name__)\n",
    "CORS(app)\n",
    "\n",
    "@app.route(\"/sendFrame\", methods=['POST']) \n",
    "def re():\n",
    "    print(request.method)\n",
    "    if request.method == 'POST':\n",
    "        \n",
    "        crnt_dir = os.getcwd()        \n",
    "        if crnt_dir == 'c:\\\\Users\\\\smhrd\\\\Desktop\\\\model_test2\\\\yolov5':\n",
    "            os.chdir('../')\n",
    "        \n",
    "        #안드로이드에서 'image'변수에 base64로 변환된 bitmap이미지\n",
    "        one_data = request.form['image']\n",
    "        #base64로 인코딩된 이미지 데이터를 디코딩하여 byte형태로 변환\n",
    "        imgdata = base64.b64decode(one_data)\n",
    "        #byte형태의 이미지 데이터를 이미지로 변환\n",
    "        image = Image.open(io.BytesIO(imgdata))\n",
    "        current_time = time.strftime('%y-%m-%d %H:%M:%S')\n",
    "        # image.save('./images/'+ secure_filename(\"{}.jpg\".format(current_time)), 'jpeg')\n",
    "        image.save('./images/image.jpg', 'jpeg')\n",
    "        # img_path = './images/', secure_filename(\"{}.jpg\".format(current_time))\n",
    "        \n",
    "        crnt_dir = os.getcwd()        \n",
    "        if crnt_dir == 'c:\\\\Users\\\\smhrd\\\\Desktop\\\\model_test2':\n",
    "            os.chdir('./yolov5')\n",
    "        \n",
    "        \n",
    "        \n",
    "        # #이미지 분석관련 코드 작성\n",
    "        \n",
    "        !python detect.py --weights ./models/best.pt --img 416 --conf 0.5 --source ../images/image.jpg --save-txt --save-conf\n",
    "        \n",
    "        obj_class = ''\n",
    "        obj_conf = ''        \n",
    "        img_path = '../images/image.jpg'\n",
    "        \n",
    "        imgNm = Path(img_path).stem\n",
    "        result_path = glob(f'./runs/detect/exp/{imgNm}.txt')\n",
    "\n",
    "        with open(result_path[0], \"r\") as f:\n",
    "            text = f.readlines()\n",
    "            obj_class = text[0][0]\n",
    "            obj_conf = f'{round(float(text[0][2:]), 2)*100}%'\n",
    "        \n",
    "        result_img = Image.open('./runs/detect/exp/image.jpg')\n",
    "        \n",
    "        # 결과값 보여주기\n",
    "        print(obj_class)\n",
    "        print(obj_conf)\n",
    "        result_img.show()\n",
    "        \n",
    "        # 결과값 리턴 형식으로 바꿔주기!!  ex) 이미지 String 형식으로 바꾸기 등\n",
    "        \n",
    "        \n",
    "        \n",
    "    #결과값 리턴    \n",
    "    return 'true'\n",
    "\n",
    "if __name__ == \"__main__\":\n",
    "    run_simple('172.30.1.30', 5000, app)"
   ]
  }
 ],
 "metadata": {
  "kernelspec": {
   "display_name": "Python 3.7.13 ('deep77')",
   "language": "python",
   "name": "python3"
  },
  "language_info": {
   "codemirror_mode": {
    "name": "ipython",
    "version": 3
   },
   "file_extension": ".py",
   "mimetype": "text/x-python",
   "name": "python",
   "nbconvert_exporter": "python",
   "pygments_lexer": "ipython3",
   "version": "3.7.13"
  },
  "orig_nbformat": 4,
  "vscode": {
   "interpreter": {
    "hash": "59ae36bd7550864bda65eb1e2aef9216a9b586fcd6e0ff7727931e4d691108f0"
   }
  }
 },
 "nbformat": 4,
 "nbformat_minor": 2
}
